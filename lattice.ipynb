{
 "cells": [
  {
   "cell_type": "code",
   "execution_count": 1,
   "metadata": {},
   "outputs": [
    {
     "name": "stdout",
     "output_type": "stream",
     "text": [
      "Vecteurs de bases du reseau direct :\n",
      "8.131619 -2.034194 0.000000\n",
      "8.131619 2.034194 0.000000\n",
      "7.622748 0.000000 3.486386\n",
      "\n",
      "\n",
      "Vecteurs de bases du reseau reciproque :\n",
      "0.386343 -1.544392 -0.844713\n",
      "0.386343 1.544392 -0.844713\n",
      "0.000000 0.000000 1.802206\n",
      "\n",
      "\n",
      "Type de maille :\n",
      "rhombohedral\n",
      "\n",
      "\n",
      "Systeme cristallin :\n",
      "trigonal\n",
      "\n",
      "\n",
      "Groupe ponctuel :\n",
      "-3m\n"
     ]
    }
   ],
   "source": [
    "from pymatgen.symmetry.analyzer import SpacegroupAnalyzer\n",
    "from pymatgen.ext.matproj import MPRester\n",
    "from pymatgen.io.cif import CifWriter\n",
    "\n",
    "#Telechargement de la structure\n",
    "with MPRester(\"ZeNTltLDkyrPS8RO\")as m:\n",
    "    struct = m.get_structure_by_material_id(\"mp-561751\")\n",
    "    writer = CifWriter(struct)\n",
    "    filename = \"structure-mp561751.cif\"\n",
    "    writer.write_file(filename)\n",
    "\n",
    "\n",
    "#Vecteurs de bases du reseau direct\n",
    "print(\"Vecteurs de bases du reseau direct :\")\n",
    "print(struct.lattice)\n",
    "print('\\n')\n",
    "\n",
    "#Vecteurs de base du reseau reciproque\n",
    "print(\"Vecteurs de bases du reseau reciproque :\")\n",
    "print(struct.lattice.reciprocal_lattice)\n",
    "print('\\n')\n",
    "\n",
    "#Type de maille\n",
    "spaceGroupe = SpacegroupAnalyzer(struct)\n",
    "print(\"Type de maille :\")\n",
    "print(spaceGroupe.get_lattice_type())\n",
    "print('\\n')\n",
    "\n",
    "#Systeme cristallin\n",
    "print(\"Systeme cristallin :\")\n",
    "print(spaceGroupe.get_crystal_system())\n",
    "print('\\n')\n",
    "\n",
    "#Groupe ponctuel\n",
    "print(\"Groupe ponctuel :\")\n",
    "print(spaceGroupe.get_point_group_symbol())\n",
    "\n"
   ]
  },
  {
   "cell_type": "code",
   "execution_count": null,
   "metadata": {},
   "outputs": [],
   "source": []
  }
 ],
 "metadata": {
  "kernelspec": {
   "display_name": "Python 3",
   "language": "python",
   "name": "python3"
  },
  "language_info": {
   "codemirror_mode": {
    "name": "ipython",
    "version": 3
   },
   "file_extension": ".py",
   "mimetype": "text/x-python",
   "name": "python",
   "nbconvert_exporter": "python",
   "pygments_lexer": "ipython3",
   "version": "3.6.8"
  }
 },
 "nbformat": 4,
 "nbformat_minor": 2
}
